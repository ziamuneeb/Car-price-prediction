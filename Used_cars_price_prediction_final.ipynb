{
 "cells": [
  {
   "cell_type": "markdown",
   "metadata": {
    "colab_type": "text",
    "id": "z2ycdTIEfWhV"
   },
   "source": [
    " * In this project I am going to predict the price of used cars using Random Forest, Linear regression, Lasso and Ridge            regression and Decision tree.\n",
    " * Data is collected from Kaggle.\n",
    " * I used python for Data cleaning, Data pre-processing, seaborn and Matplotlib for Visualisation, Scikit learn for building       the machine learning models."
   ]
  },
  {
   "cell_type": "code",
   "execution_count": 1,
   "metadata": {
    "colab": {
     "base_uri": "https://localhost:8080/",
     "height": 70
    },
    "colab_type": "code",
    "id": "GUbFugFk5CQg",
    "outputId": "a0aa4371-58e9-4a82-947a-b3ea9ee70003"
   },
   "outputs": [],
   "source": [
    "import pandas as pd\n",
    "import numpy as np\n",
    "import matplotlib.pyplot as plt\n",
    "import seaborn as sns\n",
    "from scipy import stats"
   ]
  },
  {
   "cell_type": "code",
   "execution_count": 3,
   "metadata": {
    "colab": {},
    "colab_type": "code",
    "id": "080zVEiv5CQk"
   },
   "outputs": [],
   "source": [
    "data = pd.read_csv('C:\\\\Users\\\\srt90\\\\Desktop\\\\Used car project\\\\craigslistVehicles.csv')"
   ]
  },
  {
   "cell_type": "code",
   "execution_count": 4,
   "metadata": {
    "colab": {
     "base_uri": "https://localhost:8080/",
     "height": 299
    },
    "colab_type": "code",
    "id": "g4RcqBje5CQm",
    "outputId": "7965dc03-a9c1-46b1-c8c2-4b7ddc77947f"
   },
   "outputs": [
    {
     "data": {
      "text/html": [
       "<div>\n",
       "<style scoped>\n",
       "    .dataframe tbody tr th:only-of-type {\n",
       "        vertical-align: middle;\n",
       "    }\n",
       "\n",
       "    .dataframe tbody tr th {\n",
       "        vertical-align: top;\n",
       "    }\n",
       "\n",
       "    .dataframe thead th {\n",
       "        text-align: right;\n",
       "    }\n",
       "</style>\n",
       "<table border=\"1\" class=\"dataframe\">\n",
       "  <thead>\n",
       "    <tr style=\"text-align: right;\">\n",
       "      <th></th>\n",
       "      <th>url</th>\n",
       "      <th>city</th>\n",
       "      <th>city_url</th>\n",
       "      <th>price</th>\n",
       "      <th>year</th>\n",
       "      <th>manufacturer</th>\n",
       "      <th>make</th>\n",
       "      <th>condition</th>\n",
       "      <th>cylinders</th>\n",
       "      <th>fuel</th>\n",
       "      <th>...</th>\n",
       "      <th>transmission</th>\n",
       "      <th>VIN</th>\n",
       "      <th>drive</th>\n",
       "      <th>size</th>\n",
       "      <th>type</th>\n",
       "      <th>paint_color</th>\n",
       "      <th>image_url</th>\n",
       "      <th>desc</th>\n",
       "      <th>lat</th>\n",
       "      <th>long</th>\n",
       "    </tr>\n",
       "  </thead>\n",
       "  <tbody>\n",
       "    <tr>\n",
       "      <th>0</th>\n",
       "      <td>https://abilene.craigslist.org/cto/d/aspermont...</td>\n",
       "      <td>abilene, TX</td>\n",
       "      <td>https://abilene.craigslist.org</td>\n",
       "      <td>9000</td>\n",
       "      <td>2009.0</td>\n",
       "      <td>chevrolet</td>\n",
       "      <td>suburban lt2</td>\n",
       "      <td>good</td>\n",
       "      <td>8 cylinders</td>\n",
       "      <td>gas</td>\n",
       "      <td>...</td>\n",
       "      <td>automatic</td>\n",
       "      <td>1GFNC26099R211276</td>\n",
       "      <td>rwd</td>\n",
       "      <td>full-size</td>\n",
       "      <td>SUV</td>\n",
       "      <td>white</td>\n",
       "      <td>https://images.craigslist.org/00909_5P6f1E6zHl...</td>\n",
       "      <td>2WD 1/2 ton\\nLeather Captains Chairs\\nIn good ...</td>\n",
       "      <td>33.130100</td>\n",
       "      <td>-100.234400</td>\n",
       "    </tr>\n",
       "    <tr>\n",
       "      <th>1</th>\n",
       "      <td>https://abilene.craigslist.org/ctd/d/liberty-h...</td>\n",
       "      <td>abilene, TX</td>\n",
       "      <td>https://abilene.craigslist.org</td>\n",
       "      <td>31999</td>\n",
       "      <td>2012.0</td>\n",
       "      <td>ram</td>\n",
       "      <td>2500</td>\n",
       "      <td>NaN</td>\n",
       "      <td>NaN</td>\n",
       "      <td>diesel</td>\n",
       "      <td>...</td>\n",
       "      <td>automatic</td>\n",
       "      <td>NaN</td>\n",
       "      <td>NaN</td>\n",
       "      <td>NaN</td>\n",
       "      <td>NaN</td>\n",
       "      <td>NaN</td>\n",
       "      <td>https://images.craigslist.org/00u0u_24XW8uhLYP...</td>\n",
       "      <td>www.GETADIESEL.com\\n2012 RAM 2500 SLT 4X4 MEGA...</td>\n",
       "      <td>30.648368</td>\n",
       "      <td>-97.862949</td>\n",
       "    </tr>\n",
       "    <tr>\n",
       "      <th>2</th>\n",
       "      <td>https://abilene.craigslist.org/ctd/d/liberty-h...</td>\n",
       "      <td>abilene, TX</td>\n",
       "      <td>https://abilene.craigslist.org</td>\n",
       "      <td>16990</td>\n",
       "      <td>2003.0</td>\n",
       "      <td>ram</td>\n",
       "      <td>3500</td>\n",
       "      <td>NaN</td>\n",
       "      <td>NaN</td>\n",
       "      <td>diesel</td>\n",
       "      <td>...</td>\n",
       "      <td>manual</td>\n",
       "      <td>NaN</td>\n",
       "      <td>NaN</td>\n",
       "      <td>NaN</td>\n",
       "      <td>NaN</td>\n",
       "      <td>NaN</td>\n",
       "      <td>https://images.craigslist.org/00l0l_H1UKTJ4sTI...</td>\n",
       "      <td>www.GETADIESEL.com\\n2003 DODGE RAM 3500 LARAMI...</td>\n",
       "      <td>30.648516</td>\n",
       "      <td>-97.862434</td>\n",
       "    </tr>\n",
       "    <tr>\n",
       "      <th>3</th>\n",
       "      <td>https://abilene.craigslist.org/cto/d/merkel-20...</td>\n",
       "      <td>abilene, TX</td>\n",
       "      <td>https://abilene.craigslist.org</td>\n",
       "      <td>6000</td>\n",
       "      <td>2002.0</td>\n",
       "      <td>gmc</td>\n",
       "      <td>sierra 1500</td>\n",
       "      <td>good</td>\n",
       "      <td>8 cylinders</td>\n",
       "      <td>gas</td>\n",
       "      <td>...</td>\n",
       "      <td>automatic</td>\n",
       "      <td>NaN</td>\n",
       "      <td>4wd</td>\n",
       "      <td>NaN</td>\n",
       "      <td>pickup</td>\n",
       "      <td>white</td>\n",
       "      <td>https://images.craigslist.org/00M0M_2wKzc7dKLU...</td>\n",
       "      <td>2002 GMC Sierra Extended Cab Truck For Sale! R...</td>\n",
       "      <td>32.444400</td>\n",
       "      <td>-99.992400</td>\n",
       "    </tr>\n",
       "    <tr>\n",
       "      <th>4</th>\n",
       "      <td>https://abilene.craigslist.org/cto/d/breckenri...</td>\n",
       "      <td>abilene, TX</td>\n",
       "      <td>https://abilene.craigslist.org</td>\n",
       "      <td>37000</td>\n",
       "      <td>2012.0</td>\n",
       "      <td>chevrolet</td>\n",
       "      <td>3500</td>\n",
       "      <td>excellent</td>\n",
       "      <td>8 cylinders</td>\n",
       "      <td>diesel</td>\n",
       "      <td>...</td>\n",
       "      <td>automatic</td>\n",
       "      <td>NaN</td>\n",
       "      <td>4wd</td>\n",
       "      <td>full-size</td>\n",
       "      <td>pickup</td>\n",
       "      <td>silver</td>\n",
       "      <td>https://images.craigslist.org/00r0r_eW1YWlKfCG...</td>\n",
       "      <td>2012 Chevrolet 3500 178k miles, runs and drive...</td>\n",
       "      <td>32.781689</td>\n",
       "      <td>-98.942248</td>\n",
       "    </tr>\n",
       "  </tbody>\n",
       "</table>\n",
       "<p>5 rows × 22 columns</p>\n",
       "</div>"
      ],
      "text/plain": [
       "                                                 url         city  \\\n",
       "0  https://abilene.craigslist.org/cto/d/aspermont...  abilene, TX   \n",
       "1  https://abilene.craigslist.org/ctd/d/liberty-h...  abilene, TX   \n",
       "2  https://abilene.craigslist.org/ctd/d/liberty-h...  abilene, TX   \n",
       "3  https://abilene.craigslist.org/cto/d/merkel-20...  abilene, TX   \n",
       "4  https://abilene.craigslist.org/cto/d/breckenri...  abilene, TX   \n",
       "\n",
       "                         city_url  price    year manufacturer          make  \\\n",
       "0  https://abilene.craigslist.org   9000  2009.0    chevrolet  suburban lt2   \n",
       "1  https://abilene.craigslist.org  31999  2012.0          ram          2500   \n",
       "2  https://abilene.craigslist.org  16990  2003.0          ram          3500   \n",
       "3  https://abilene.craigslist.org   6000  2002.0          gmc   sierra 1500   \n",
       "4  https://abilene.craigslist.org  37000  2012.0    chevrolet          3500   \n",
       "\n",
       "   condition    cylinders    fuel  ...  transmission                VIN drive  \\\n",
       "0       good  8 cylinders     gas  ...     automatic  1GFNC26099R211276   rwd   \n",
       "1        NaN          NaN  diesel  ...     automatic                NaN   NaN   \n",
       "2        NaN          NaN  diesel  ...        manual                NaN   NaN   \n",
       "3       good  8 cylinders     gas  ...     automatic                NaN   4wd   \n",
       "4  excellent  8 cylinders  diesel  ...     automatic                NaN   4wd   \n",
       "\n",
       "        size    type paint_color  \\\n",
       "0  full-size     SUV       white   \n",
       "1        NaN     NaN         NaN   \n",
       "2        NaN     NaN         NaN   \n",
       "3        NaN  pickup       white   \n",
       "4  full-size  pickup      silver   \n",
       "\n",
       "                                           image_url  \\\n",
       "0  https://images.craigslist.org/00909_5P6f1E6zHl...   \n",
       "1  https://images.craigslist.org/00u0u_24XW8uhLYP...   \n",
       "2  https://images.craigslist.org/00l0l_H1UKTJ4sTI...   \n",
       "3  https://images.craigslist.org/00M0M_2wKzc7dKLU...   \n",
       "4  https://images.craigslist.org/00r0r_eW1YWlKfCG...   \n",
       "\n",
       "                                                desc        lat        long  \n",
       "0  2WD 1/2 ton\\nLeather Captains Chairs\\nIn good ...  33.130100 -100.234400  \n",
       "1  www.GETADIESEL.com\\n2012 RAM 2500 SLT 4X4 MEGA...  30.648368  -97.862949  \n",
       "2  www.GETADIESEL.com\\n2003 DODGE RAM 3500 LARAMI...  30.648516  -97.862434  \n",
       "3  2002 GMC Sierra Extended Cab Truck For Sale! R...  32.444400  -99.992400  \n",
       "4  2012 Chevrolet 3500 178k miles, runs and drive...  32.781689  -98.942248  \n",
       "\n",
       "[5 rows x 22 columns]"
      ]
     },
     "execution_count": 4,
     "metadata": {},
     "output_type": "execute_result"
    }
   ],
   "source": [
    "data.head()"
   ]
  },
  {
   "cell_type": "code",
   "execution_count": 5,
   "metadata": {
    "colab": {},
    "colab_type": "code",
    "id": "ddDi8TsX5CQs"
   },
   "outputs": [],
   "source": [
    "# copy\n",
    "new_data = data.copy()"
   ]
  },
  {
   "cell_type": "code",
   "execution_count": 6,
   "metadata": {
    "colab": {
     "base_uri": "https://localhost:8080/",
     "height": 34
    },
    "colab_type": "code",
    "id": "kyBLm6xN5CQt",
    "outputId": "861272c1-7bb1-4e88-9830-9d20ac980ec0",
    "scrolled": true
   },
   "outputs": [
    {
     "data": {
      "text/plain": [
       "(550313, 22)"
      ]
     },
     "execution_count": 6,
     "metadata": {},
     "output_type": "execute_result"
    }
   ],
   "source": [
    "new_data.shape"
   ]
  },
  {
   "cell_type": "markdown",
   "metadata": {
    "colab_type": "text",
    "id": "QWEd-pkYZ8VE"
   },
   "source": [
    "## **Data Cleaning**"
   ]
  },
  {
   "cell_type": "code",
   "execution_count": 7,
   "metadata": {
    "colab": {},
    "colab_type": "code",
    "id": "nVw-MsmsfWhk"
   },
   "outputs": [],
   "source": [
    "#re-naming the columns\n",
    "new_data.rename({'make': 'model', 'odometer': 'mileage'}, axis= 1,inplace= True)"
   ]
  },
  {
   "cell_type": "code",
   "execution_count": 8,
   "metadata": {
    "colab": {
     "base_uri": "https://localhost:8080/",
     "height": 34
    },
    "colab_type": "code",
    "id": "Hd2-s4At5CQv",
    "outputId": "a8f62f4f-a660-4505-ef68-e4729f150f23"
   },
   "outputs": [
    {
     "data": {
      "text/plain": [
       "(550313, 15)"
      ]
     },
     "execution_count": 8,
     "metadata": {},
     "output_type": "execute_result"
    }
   ],
   "source": [
    "# Lets drop the columns that are not useful for the car price prediction.\n",
    "drop_columns = ['city_url', 'url','lat','long','image_url', 'VIN', 'city']\n",
    "new_data = new_data.drop(drop_columns, axis =1)\n",
    "new_data.shape"
   ]
  },
  {
   "cell_type": "code",
   "execution_count": 9,
   "metadata": {
    "colab": {
     "base_uri": "https://localhost:8080/",
     "height": 34
    },
    "colab_type": "code",
    "id": "grG8d5w65CQ8",
    "outputId": "fb69a943-5a4b-4273-fc0b-fd0bd863b1f5"
   },
   "outputs": [
    {
     "data": {
      "text/plain": [
       "(550177, 15)"
      ]
     },
     "execution_count": 9,
     "metadata": {},
     "output_type": "execute_result"
    }
   ],
   "source": [
    "#lets drop the columns where price of the car is more than 2.5 million dollars because high end used cars like ferrari, porsche costs less than that\n",
    "new_data = new_data.drop(new_data[new_data.price > 250000].index)\n",
    "new_data.shape"
   ]
  },
  {
   "cell_type": "code",
   "execution_count": 10,
   "metadata": {
    "colab": {
     "base_uri": "https://localhost:8080/",
     "height": 34
    },
    "colab_type": "code",
    "id": "evh2oIzj5CRA",
    "outputId": "0492c081-fc9b-4d28-e772-557a233d2074"
   },
   "outputs": [
    {
     "data": {
      "text/plain": [
       "(527135, 15)"
      ]
     },
     "execution_count": 10,
     "metadata": {},
     "output_type": "execute_result"
    }
   ],
   "source": [
    "#Lets drop the columns where year is less than 1990 and greater than 2019\n",
    "new_data = new_data[(new_data['year'] > 1990) & (new_data['year'] < 2020)]\n",
    "new_data.index = range(len(new_data))\n",
    "new_data.shape"
   ]
  },
  {
   "cell_type": "code",
   "execution_count": 11,
   "metadata": {
    "colab": {},
    "colab_type": "code",
    "id": "PqQhltLO_ieh"
   },
   "outputs": [],
   "source": [
    "# finding the length of description of each car\n",
    "new_data.dropna(subset = ['desc'],inplace = True) # dropping the null values in 'desc' column\n",
    "new_data['word_len'] = new_data.desc.apply(lambda x: len(str(x.lower().split())))\n",
    "new_data.index = range(len(new_data))\n",
    "del new_data['desc']"
   ]
  },
  {
   "cell_type": "code",
   "execution_count": 12,
   "metadata": {
    "colab": {},
    "colab_type": "code",
    "id": "2YLwxVOB-YEd"
   },
   "outputs": [],
   "source": [
    "#finding the age of car\n",
    "from datetime import datetime\n",
    "\n",
    "current_year = datetime.now().year\n",
    "new_data['Age'] = current_year - new_data['year']\n",
    "del new_data['year']"
   ]
  },
  {
   "cell_type": "code",
   "execution_count": 13,
   "metadata": {
    "colab": {},
    "colab_type": "code",
    "id": "0y-rKbqP-t3T"
   },
   "outputs": [],
   "source": [
    "# removing the 'cylinders' in the columns and converting into float.\n",
    "new_data.cylinders = new_data.cylinders.apply(lambda x: x if str(x).lower()[-1] == 'o' or str(x).lower()[-1] == 'n' else str(x).lower().replace('cylinders', ''))\n",
    "new_data.cylinders = pd.to_numeric(new_data.cylinders, errors = 'coerce')\n",
    "new_data.cylinders.fillna(new_data.cylinders.median(), inplace = True)"
   ]
  },
  {
   "cell_type": "code",
   "execution_count": 14,
   "metadata": {
    "colab": {
     "base_uri": "https://localhost:8080/",
     "height": 34
    },
    "colab_type": "code",
    "id": "fHhEqjyL-YbX",
    "outputId": "abadfd7c-fd8d-451f-f55f-51989b4cc30e"
   },
   "outputs": [
    {
     "data": {
      "text/plain": [
       "(324833, 15)"
      ]
     },
     "execution_count": 14,
     "metadata": {},
     "output_type": "execute_result"
    }
   ],
   "source": [
    "# Lets drop the rows where has atleast 3 NaN values.\n",
    "new_data.dropna(thresh = 13, axis = 0, inplace = True)\n",
    "new_data.shape"
   ]
  },
  {
   "cell_type": "code",
   "execution_count": 15,
   "metadata": {
    "colab": {
     "base_uri": "https://localhost:8080/",
     "height": 34
    },
    "colab_type": "code",
    "id": "J1Xb_8yrJH3y",
    "outputId": "e4d4ffc8-91eb-4f05-849c-b5091443471f"
   },
   "outputs": [
    {
     "data": {
      "text/plain": [
       "(251722, 15)"
      ]
     },
     "execution_count": 15,
     "metadata": {},
     "output_type": "execute_result"
    }
   ],
   "source": [
    "#dropping the duplicates in the data\n",
    "new_data.drop_duplicates(keep = 'first', inplace = True)\n",
    "new_data.index = range(len(new_data))\n",
    "new_data.shape"
   ]
  },
  {
   "cell_type": "code",
   "execution_count": 16,
   "metadata": {
    "colab": {},
    "colab_type": "code",
    "id": "pCDr2Wn65CRM"
   },
   "outputs": [],
   "source": [
    "# fixing the spelling errors\n",
    "new_data.manufacturer = new_data.manufacturer.apply(lambda x: x.replace('porche', 'porsche') if x == 'porche' else x)"
   ]
  },
  {
   "cell_type": "code",
   "execution_count": 17,
   "metadata": {
    "colab": {},
    "colab_type": "code",
    "id": "NoATRIoSXMgb"
   },
   "outputs": [],
   "source": [
    "# creating new dataframe to find the size of each car in order to fill the null values in the size feature of same car\n",
    "new = new_data.sort_values(by= ['size','manufacturer','type'])\n",
    "new.drop_duplicates(subset = ['model','type'], keep = 'first', inplace = True)\n",
    "new.index = range(len(new))"
   ]
  },
  {
   "cell_type": "code",
   "execution_count": 18,
   "metadata": {
    "colab": {},
    "colab_type": "code",
    "id": "HKnaVzcj59Fb"
   },
   "outputs": [],
   "source": [
    "new.dropna(subset = ['size','model'], inplace= True)\n",
    "new.index = range(len(new))"
   ]
  },
  {
   "cell_type": "code",
   "execution_count": 19,
   "metadata": {
    "colab": {
     "base_uri": "https://localhost:8080/",
     "height": 101
    },
    "colab_type": "code",
    "id": "6NTV-GA0XdQh",
    "outputId": "7db4aef9-66f7-4ad9-b03b-eb8ffcf6d1f3"
   },
   "outputs": [
    {
     "name": "stderr",
     "output_type": "stream",
     "text": [
      "C:\\Users\\srt90\\Anaconda3\\lib\\site-packages\\ipykernel_launcher.py:5: SettingWithCopyWarning: \n",
      "A value is trying to be set on a copy of a slice from a DataFrame\n",
      "\n",
      "See the caveats in the documentation: http://pandas.pydata.org/pandas-docs/stable/user_guide/indexing.html#returning-a-view-versus-a-copy\n",
      "  \"\"\"\n"
     ]
    }
   ],
   "source": [
    "# dictionary that contain size of each car\n",
    "size = dict(zip(new['model'], new['size']))\n",
    "for i in range(len(new_data)):\n",
    "    if str(new_data['size'][i]).lower()[0] == 'n' and (new_data['model'][i] in size.keys()):\n",
    "        new_data['size'][i] = size[new_data['model'][i]]"
   ]
  },
  {
   "cell_type": "code",
   "execution_count": 20,
   "metadata": {
    "colab": {},
    "colab_type": "code",
    "id": "mMYEUw_wpg9c"
   },
   "outputs": [],
   "source": [
    "# Adding the manufacturers name to list from the dataset and adding few more manufacturer after looking the make column in dataset\n",
    "manuf = []\n",
    "for i in new_data.manufacturer.value_counts().index:\n",
    "    manuf.append(i)\n",
    "manuf.append('Tesla')\n",
    "manuf.append('Rolls-Royce')\n",
    "manuf.append('genesis')"
   ]
  },
  {
   "cell_type": "code",
   "execution_count": 21,
   "metadata": {
    "colab": {
     "base_uri": "https://localhost:8080/",
     "height": 185
    },
    "colab_type": "code",
    "id": "IeReqyHlphUM",
    "outputId": "14fe176e-fe66-4b5b-c4a3-bfa73acba196"
   },
   "outputs": [
    {
     "name": "stderr",
     "output_type": "stream",
     "text": [
      "C:\\Users\\srt90\\Anaconda3\\lib\\site-packages\\ipykernel_launcher.py:10: SettingWithCopyWarning: \n",
      "A value is trying to be set on a copy of a slice from a DataFrame\n",
      "\n",
      "See the caveats in the documentation: http://pandas.pydata.org/pandas-docs/stable/user_guide/indexing.html#returning-a-view-versus-a-copy\n",
      "  # Remove the CWD from sys.path while we load stuff.\n",
      "C:\\Users\\srt90\\Anaconda3\\lib\\site-packages\\ipykernel_launcher.py:12: SettingWithCopyWarning: \n",
      "A value is trying to be set on a copy of a slice from a DataFrame\n",
      "\n",
      "See the caveats in the documentation: http://pandas.pydata.org/pandas-docs/stable/user_guide/indexing.html#returning-a-view-versus-a-copy\n",
      "  if sys.path[0] == '':\n"
     ]
    }
   ],
   "source": [
    "# Replace the nan values in the manufacturer column based on the model column \n",
    "# from make column we can identify manufacturer of the car as it sometimes contains the manufacturer name in it\n",
    "d = new_data['manufacturer']\n",
    "m = new_data['model']\n",
    "for i in range(len(new_data)):\n",
    "    if str(d[i]).lower()[0] == 'n':\n",
    "        for x in str(m[i]).lower().split():\n",
    "            for mm in manuf:\n",
    "                if (len(x) > 4) & (x[:4] == mm.lower()[:4]):\n",
    "                    new_data['manufacturer'][i] = mm\n",
    "                elif (x[:3] == mm.lower()[:3]) & (x[:-1] == mm.lower()[:-1]):\n",
    "                    new_data['manufacturer'][i] = mm"
   ]
  },
  {
   "cell_type": "code",
   "execution_count": 22,
   "metadata": {
    "colab": {},
    "colab_type": "code",
    "id": "a2MTyyoyZmyI"
   },
   "outputs": [],
   "source": [
    "# reduce the paint color feature to common and not common colors\n",
    "common_colors = list(['white','grey','black','silver','blue','red'])\n",
    "new_data['paint_color'] = new_data['paint_color'].apply(lambda x: 'Common' if x in common_colors else 'Not_common')"
   ]
  },
  {
   "cell_type": "code",
   "execution_count": 23,
   "metadata": {
    "colab": {
     "base_uri": "https://localhost:8080/",
     "height": 34
    },
    "colab_type": "code",
    "id": "kTGdwZ2F_-MI",
    "outputId": "47c89a27-7e96-48ca-e7d8-92476d6024b7"
   },
   "outputs": [
    {
     "data": {
      "text/plain": [
       "(137646, 15)"
      ]
     },
     "execution_count": 23,
     "metadata": {},
     "output_type": "execute_result"
    }
   ],
   "source": [
    "#dropping the null values\n",
    "new_data.dropna(subset = ['transmission','type','manufacturer','model','fuel','mileage','title_status','paint_color','drive','size','condition'],inplace = True)\n",
    "new_data.index = range(len(new_data))\n",
    "new_data.shape"
   ]
  },
  {
   "cell_type": "code",
   "execution_count": 24,
   "metadata": {
    "colab": {},
    "colab_type": "code",
    "id": "-d4sCuaq4zAD"
   },
   "outputs": [],
   "source": [
    "# Function to remove the outliers in the data\n",
    "def outlier_removal(x):\n",
    "    for i in x:\n",
    "        z_score_od = np.abs(stats.zscore(new_data[i]))\n",
    "        outliers = np.where(z_score_od > 3)\n",
    "        new_data.drop(new_data.index[[i for i in outliers[0]]],inplace= True)\n",
    "        new_data.index = range(len(new_data))  \n",
    "        \n",
    "outlier_removal(new_data._get_numeric_data().columns)"
   ]
  },
  {
   "cell_type": "code",
   "execution_count": 25,
   "metadata": {
    "colab": {
     "base_uri": "https://localhost:8080/",
     "height": 34
    },
    "colab_type": "code",
    "id": "xiszW42h9TIT",
    "outputId": "a4558aab-b73d-4495-fb05-66c62f567e6f"
   },
   "outputs": [
    {
     "data": {
      "text/plain": [
       "(125788, 15)"
      ]
     },
     "execution_count": 25,
     "metadata": {},
     "output_type": "execute_result"
    }
   ],
   "source": [
    "# price of car cant be zero so we are eliminating the price less than 50 dollars. Some people mention very less price and \n",
    "# they will reveal the price directly to customer while buying and bargain later.\n",
    "new_data = new_data[new_data['price'] > 50]\n",
    "new_data.index = range(len(new_data))\n",
    "new_data.shape"
   ]
  },
  {
   "cell_type": "code",
   "execution_count": 26,
   "metadata": {
    "colab": {},
    "colab_type": "code",
    "id": "YQ7hUxZufWiF"
   },
   "outputs": [],
   "source": [
    "#shifting the 'age' to new place\n",
    "new_data.insert(1, 'age', new_data['Age'])\n",
    "del new_data['Age']"
   ]
  },
  {
   "cell_type": "code",
   "execution_count": 27,
   "metadata": {
    "colab": {},
    "colab_type": "code",
    "id": "5QYxXx1D_V36"
   },
   "outputs": [],
   "source": [
    "# creating the dictionary for integer labelling\n",
    "cond_dict = {'new':10, 'like new':9, 'excellent':8, 'good':7, 'fair':5, 'salvage':3}\n",
    "title_dict = {'clean': 6, 'lien': 4, 'rebuilt':3, 'salvage': 2, 'parts only': 1, 'missing': 0}\n",
    "columns = list(['condition', 'title_status'])\n",
    "dictionary = list([cond_dict, title_dict])"
   ]
  },
  {
   "cell_type": "code",
   "execution_count": 28,
   "metadata": {
    "colab": {},
    "colab_type": "code",
    "id": "IpuQulTNfWiV"
   },
   "outputs": [],
   "source": [
    "#Function that does the integer labelling.\n",
    "def labelling(columns, dictionary):\n",
    "    for i in range(len(columns)):\n",
    "        new_data[columns[i]] = new_data[columns[i]].map(dictionary[i])\n",
    "\n",
    "labelling(columns, dictionary)"
   ]
  },
  {
   "cell_type": "code",
   "execution_count": 29,
   "metadata": {
    "colab": {},
    "colab_type": "code",
    "id": "PuUbbDEgQX1q"
   },
   "outputs": [],
   "source": [
    "# Finding the models of car which has fewer data\n",
    "other_models = new_data.model.value_counts().index[new_data.model.value_counts().values < 5]"
   ]
  },
  {
   "cell_type": "code",
   "execution_count": 30,
   "metadata": {
    "colab": {
     "base_uri": "https://localhost:8080/",
     "height": 101
    },
    "colab_type": "code",
    "id": "b1l_UsOFQkW9",
    "outputId": "384cf67f-12e8-4a72-ff6c-e8c480639688"
   },
   "outputs": [
    {
     "name": "stderr",
     "output_type": "stream",
     "text": [
      "C:\\Users\\srt90\\Anaconda3\\lib\\site-packages\\ipykernel_launcher.py:5: SettingWithCopyWarning: \n",
      "A value is trying to be set on a copy of a slice from a DataFrame\n",
      "\n",
      "See the caveats in the documentation: http://pandas.pydata.org/pandas-docs/stable/user_guide/indexing.html#returning-a-view-versus-a-copy\n",
      "  \"\"\"\n"
     ]
    }
   ],
   "source": [
    "# Function replaces the less frequent models of car to other_models category\n",
    "def model_edit(model_list, data):\n",
    "    for i in range(len(data)):\n",
    "        if data[i] in model_list:\n",
    "            data[i] = 'other_models'\n",
    "\n",
    "model_edit(other_models, new_data['model'])"
   ]
  },
  {
   "cell_type": "code",
   "execution_count": 34,
   "metadata": {
    "colab": {},
    "colab_type": "code",
    "id": "SJmKWnzjfWia"
   },
   "outputs": [],
   "source": [
    "# changing the datatype from float to int\n",
    "new_data['age'] = new_data['age'].astype(int)\n",
    "new_data['mileage'] = new_data['mileage'].astype(int)\n",
    "new_data['cylinders'] = new_data['cylinders'].astype(int)"
   ]
  },
  {
   "cell_type": "code",
   "execution_count": 36,
   "metadata": {
    "colab": {
     "base_uri": "https://localhost:8080/",
     "height": 299
    },
    "colab_type": "code",
    "id": "ulvu8UzffWic",
    "outputId": "1a9e5576-b04c-4900-b7cb-4870b8d32c7a"
   },
   "outputs": [
    {
     "data": {
      "text/html": [
       "<div>\n",
       "<style scoped>\n",
       "    .dataframe tbody tr th:only-of-type {\n",
       "        vertical-align: middle;\n",
       "    }\n",
       "\n",
       "    .dataframe tbody tr th {\n",
       "        vertical-align: top;\n",
       "    }\n",
       "\n",
       "    .dataframe thead th {\n",
       "        text-align: right;\n",
       "    }\n",
       "</style>\n",
       "<table border=\"1\" class=\"dataframe\">\n",
       "  <thead>\n",
       "    <tr style=\"text-align: right;\">\n",
       "      <th></th>\n",
       "      <th>price</th>\n",
       "      <th>age</th>\n",
       "      <th>manufacturer</th>\n",
       "      <th>model</th>\n",
       "      <th>condition</th>\n",
       "      <th>cylinders</th>\n",
       "      <th>fuel</th>\n",
       "      <th>mileage</th>\n",
       "      <th>title_status</th>\n",
       "      <th>transmission</th>\n",
       "      <th>drive</th>\n",
       "      <th>size</th>\n",
       "      <th>type</th>\n",
       "      <th>paint_color</th>\n",
       "      <th>word_len</th>\n",
       "    </tr>\n",
       "  </thead>\n",
       "  <tbody>\n",
       "    <tr>\n",
       "      <th>0</th>\n",
       "      <td>9000</td>\n",
       "      <td>11</td>\n",
       "      <td>chevrolet</td>\n",
       "      <td>other_models</td>\n",
       "      <td>7</td>\n",
       "      <td>8</td>\n",
       "      <td>gas</td>\n",
       "      <td>217743</td>\n",
       "      <td>6</td>\n",
       "      <td>automatic</td>\n",
       "      <td>rwd</td>\n",
       "      <td>full-size</td>\n",
       "      <td>SUV</td>\n",
       "      <td>Common</td>\n",
       "      <td>132</td>\n",
       "    </tr>\n",
       "    <tr>\n",
       "      <th>1</th>\n",
       "      <td>6000</td>\n",
       "      <td>18</td>\n",
       "      <td>gmc</td>\n",
       "      <td>sierra 1500</td>\n",
       "      <td>7</td>\n",
       "      <td>8</td>\n",
       "      <td>gas</td>\n",
       "      <td>195000</td>\n",
       "      <td>6</td>\n",
       "      <td>automatic</td>\n",
       "      <td>4wd</td>\n",
       "      <td>full-size</td>\n",
       "      <td>pickup</td>\n",
       "      <td>Common</td>\n",
       "      <td>505</td>\n",
       "    </tr>\n",
       "    <tr>\n",
       "      <th>2</th>\n",
       "      <td>37000</td>\n",
       "      <td>8</td>\n",
       "      <td>chevrolet</td>\n",
       "      <td>3500</td>\n",
       "      <td>8</td>\n",
       "      <td>8</td>\n",
       "      <td>diesel</td>\n",
       "      <td>178000</td>\n",
       "      <td>6</td>\n",
       "      <td>automatic</td>\n",
       "      <td>4wd</td>\n",
       "      <td>full-size</td>\n",
       "      <td>pickup</td>\n",
       "      <td>Common</td>\n",
       "      <td>274</td>\n",
       "    </tr>\n",
       "    <tr>\n",
       "      <th>3</th>\n",
       "      <td>9700</td>\n",
       "      <td>10</td>\n",
       "      <td>cadillac</td>\n",
       "      <td>srx luxury collection</td>\n",
       "      <td>7</td>\n",
       "      <td>8</td>\n",
       "      <td>gas</td>\n",
       "      <td>140000</td>\n",
       "      <td>6</td>\n",
       "      <td>automatic</td>\n",
       "      <td>fwd</td>\n",
       "      <td>mid-size</td>\n",
       "      <td>SUV</td>\n",
       "      <td>Common</td>\n",
       "      <td>483</td>\n",
       "    </tr>\n",
       "    <tr>\n",
       "      <th>4</th>\n",
       "      <td>2500</td>\n",
       "      <td>19</td>\n",
       "      <td>chevrolet</td>\n",
       "      <td>silverado 1500</td>\n",
       "      <td>5</td>\n",
       "      <td>8</td>\n",
       "      <td>gas</td>\n",
       "      <td>220000</td>\n",
       "      <td>6</td>\n",
       "      <td>automatic</td>\n",
       "      <td>rwd</td>\n",
       "      <td>full-size</td>\n",
       "      <td>pickup</td>\n",
       "      <td>Common</td>\n",
       "      <td>3657</td>\n",
       "    </tr>\n",
       "  </tbody>\n",
       "</table>\n",
       "</div>"
      ],
      "text/plain": [
       "   price  age manufacturer                  model  condition  cylinders  \\\n",
       "0   9000   11    chevrolet           other_models          7          8   \n",
       "1   6000   18          gmc            sierra 1500          7          8   \n",
       "2  37000    8    chevrolet                   3500          8          8   \n",
       "3   9700   10     cadillac  srx luxury collection          7          8   \n",
       "4   2500   19    chevrolet         silverado 1500          5          8   \n",
       "\n",
       "     fuel  mileage  title_status transmission drive       size    type  \\\n",
       "0     gas   217743             6    automatic   rwd  full-size     SUV   \n",
       "1     gas   195000             6    automatic   4wd  full-size  pickup   \n",
       "2  diesel   178000             6    automatic   4wd  full-size  pickup   \n",
       "3     gas   140000             6    automatic   fwd   mid-size     SUV   \n",
       "4     gas   220000             6    automatic   rwd  full-size  pickup   \n",
       "\n",
       "  paint_color  word_len  \n",
       "0      Common       132  \n",
       "1      Common       505  \n",
       "2      Common       274  \n",
       "3      Common       483  \n",
       "4      Common      3657  "
      ]
     },
     "execution_count": 36,
     "metadata": {},
     "output_type": "execute_result"
    }
   ],
   "source": [
    "new_data.head()"
   ]
  },
  {
   "cell_type": "code",
   "execution_count": 37,
   "metadata": {
    "colab": {
     "base_uri": "https://localhost:8080/",
     "height": 286
    },
    "colab_type": "code",
    "id": "d6Ak3fCG5CSM",
    "outputId": "379ecf6d-06f8-4a5b-a08d-b595b4efc48b"
   },
   "outputs": [
    {
     "data": {
      "text/plain": [
       "price            int64\n",
       "age              int32\n",
       "manufacturer    object\n",
       "model           object\n",
       "condition        int64\n",
       "cylinders        int32\n",
       "fuel            object\n",
       "mileage          int32\n",
       "title_status     int64\n",
       "transmission    object\n",
       "drive           object\n",
       "size            object\n",
       "type            object\n",
       "paint_color     object\n",
       "word_len         int64\n",
       "dtype: object"
      ]
     },
     "execution_count": 37,
     "metadata": {},
     "output_type": "execute_result"
    }
   ],
   "source": [
    "new_data.dtypes"
   ]
  },
  {
   "cell_type": "code",
   "execution_count": 38,
   "metadata": {
    "colab": {
     "base_uri": "https://localhost:8080/",
     "height": 286
    },
    "colab_type": "code",
    "id": "PdEy7-x4KzEg",
    "outputId": "2ea9416f-df3c-4e06-a1fa-51574f71d4f8",
    "scrolled": true
   },
   "outputs": [
    {
     "data": {
      "text/plain": [
       "price           0\n",
       "age             0\n",
       "manufacturer    0\n",
       "model           0\n",
       "condition       0\n",
       "cylinders       0\n",
       "fuel            0\n",
       "mileage         0\n",
       "title_status    0\n",
       "transmission    0\n",
       "drive           0\n",
       "size            0\n",
       "type            0\n",
       "paint_color     0\n",
       "word_len        0\n",
       "dtype: int64"
      ]
     },
     "execution_count": 38,
     "metadata": {},
     "output_type": "execute_result"
    }
   ],
   "source": [
    "new_data.isnull().sum() # Now data is clean and it has no null values"
   ]
  },
  {
   "cell_type": "code",
   "execution_count": 39,
   "metadata": {
    "colab": {
     "base_uri": "https://localhost:8080/",
     "height": 284
    },
    "colab_type": "code",
    "id": "qL5ZUcJY5CSQ",
    "outputId": "6b315c5f-3e7a-4dc3-c963-b27bc0378849",
    "scrolled": true
   },
   "outputs": [
    {
     "data": {
      "text/html": [
       "<div>\n",
       "<style scoped>\n",
       "    .dataframe tbody tr th:only-of-type {\n",
       "        vertical-align: middle;\n",
       "    }\n",
       "\n",
       "    .dataframe tbody tr th {\n",
       "        vertical-align: top;\n",
       "    }\n",
       "\n",
       "    .dataframe thead th {\n",
       "        text-align: right;\n",
       "    }\n",
       "</style>\n",
       "<table border=\"1\" class=\"dataframe\">\n",
       "  <thead>\n",
       "    <tr style=\"text-align: right;\">\n",
       "      <th></th>\n",
       "      <th>price</th>\n",
       "      <th>age</th>\n",
       "      <th>manufacturer</th>\n",
       "      <th>model</th>\n",
       "      <th>condition</th>\n",
       "      <th>cylinders</th>\n",
       "      <th>fuel</th>\n",
       "      <th>mileage</th>\n",
       "      <th>title_status</th>\n",
       "      <th>transmission</th>\n",
       "      <th>drive</th>\n",
       "      <th>size</th>\n",
       "      <th>type</th>\n",
       "      <th>paint_color</th>\n",
       "      <th>word_len</th>\n",
       "    </tr>\n",
       "  </thead>\n",
       "  <tbody>\n",
       "    <tr>\n",
       "      <th>count</th>\n",
       "      <td>125788.000000</td>\n",
       "      <td>125788.000000</td>\n",
       "      <td>125788</td>\n",
       "      <td>125788</td>\n",
       "      <td>125788.000000</td>\n",
       "      <td>125788.000000</td>\n",
       "      <td>125788</td>\n",
       "      <td>125788.000000</td>\n",
       "      <td>125788.000000</td>\n",
       "      <td>125788</td>\n",
       "      <td>125788</td>\n",
       "      <td>125788</td>\n",
       "      <td>125788</td>\n",
       "      <td>125788</td>\n",
       "      <td>125788.000000</td>\n",
       "    </tr>\n",
       "    <tr>\n",
       "      <th>unique</th>\n",
       "      <td>NaN</td>\n",
       "      <td>NaN</td>\n",
       "      <td>42</td>\n",
       "      <td>2713</td>\n",
       "      <td>NaN</td>\n",
       "      <td>NaN</td>\n",
       "      <td>5</td>\n",
       "      <td>NaN</td>\n",
       "      <td>NaN</td>\n",
       "      <td>3</td>\n",
       "      <td>3</td>\n",
       "      <td>4</td>\n",
       "      <td>13</td>\n",
       "      <td>2</td>\n",
       "      <td>NaN</td>\n",
       "    </tr>\n",
       "    <tr>\n",
       "      <th>top</th>\n",
       "      <td>NaN</td>\n",
       "      <td>NaN</td>\n",
       "      <td>ford</td>\n",
       "      <td>other_models</td>\n",
       "      <td>NaN</td>\n",
       "      <td>NaN</td>\n",
       "      <td>gas</td>\n",
       "      <td>NaN</td>\n",
       "      <td>NaN</td>\n",
       "      <td>automatic</td>\n",
       "      <td>4wd</td>\n",
       "      <td>full-size</td>\n",
       "      <td>sedan</td>\n",
       "      <td>Common</td>\n",
       "      <td>NaN</td>\n",
       "    </tr>\n",
       "    <tr>\n",
       "      <th>freq</th>\n",
       "      <td>NaN</td>\n",
       "      <td>NaN</td>\n",
       "      <td>22909</td>\n",
       "      <td>13728</td>\n",
       "      <td>NaN</td>\n",
       "      <td>NaN</td>\n",
       "      <td>116024</td>\n",
       "      <td>NaN</td>\n",
       "      <td>NaN</td>\n",
       "      <td>114356</td>\n",
       "      <td>51362</td>\n",
       "      <td>66250</td>\n",
       "      <td>36078</td>\n",
       "      <td>102705</td>\n",
       "      <td>NaN</td>\n",
       "    </tr>\n",
       "    <tr>\n",
       "      <th>mean</th>\n",
       "      <td>10525.332226</td>\n",
       "      <td>11.224234</td>\n",
       "      <td>NaN</td>\n",
       "      <td>NaN</td>\n",
       "      <td>7.582981</td>\n",
       "      <td>5.939780</td>\n",
       "      <td>NaN</td>\n",
       "      <td>117033.278930</td>\n",
       "      <td>5.810920</td>\n",
       "      <td>NaN</td>\n",
       "      <td>NaN</td>\n",
       "      <td>NaN</td>\n",
       "      <td>NaN</td>\n",
       "      <td>NaN</td>\n",
       "      <td>1858.053813</td>\n",
       "    </tr>\n",
       "    <tr>\n",
       "      <th>std</th>\n",
       "      <td>8158.151450</td>\n",
       "      <td>5.617431</td>\n",
       "      <td>NaN</td>\n",
       "      <td>NaN</td>\n",
       "      <td>0.893499</td>\n",
       "      <td>1.516766</td>\n",
       "      <td>NaN</td>\n",
       "      <td>62333.281346</td>\n",
       "      <td>0.756311</td>\n",
       "      <td>NaN</td>\n",
       "      <td>NaN</td>\n",
       "      <td>NaN</td>\n",
       "      <td>NaN</td>\n",
       "      <td>NaN</td>\n",
       "      <td>2179.694429</td>\n",
       "    </tr>\n",
       "    <tr>\n",
       "      <th>min</th>\n",
       "      <td>52.000000</td>\n",
       "      <td>1.000000</td>\n",
       "      <td>NaN</td>\n",
       "      <td>NaN</td>\n",
       "      <td>3.000000</td>\n",
       "      <td>3.000000</td>\n",
       "      <td>NaN</td>\n",
       "      <td>0.000000</td>\n",
       "      <td>0.000000</td>\n",
       "      <td>NaN</td>\n",
       "      <td>NaN</td>\n",
       "      <td>NaN</td>\n",
       "      <td>NaN</td>\n",
       "      <td>NaN</td>\n",
       "      <td>5.000000</td>\n",
       "    </tr>\n",
       "    <tr>\n",
       "      <th>25%</th>\n",
       "      <td>4468.750000</td>\n",
       "      <td>7.000000</td>\n",
       "      <td>NaN</td>\n",
       "      <td>NaN</td>\n",
       "      <td>7.000000</td>\n",
       "      <td>4.000000</td>\n",
       "      <td>NaN</td>\n",
       "      <td>72806.000000</td>\n",
       "      <td>6.000000</td>\n",
       "      <td>NaN</td>\n",
       "      <td>NaN</td>\n",
       "      <td>NaN</td>\n",
       "      <td>NaN</td>\n",
       "      <td>NaN</td>\n",
       "      <td>411.000000</td>\n",
       "    </tr>\n",
       "    <tr>\n",
       "      <th>50%</th>\n",
       "      <td>7995.000000</td>\n",
       "      <td>11.000000</td>\n",
       "      <td>NaN</td>\n",
       "      <td>NaN</td>\n",
       "      <td>8.000000</td>\n",
       "      <td>6.000000</td>\n",
       "      <td>NaN</td>\n",
       "      <td>115000.000000</td>\n",
       "      <td>6.000000</td>\n",
       "      <td>NaN</td>\n",
       "      <td>NaN</td>\n",
       "      <td>NaN</td>\n",
       "      <td>NaN</td>\n",
       "      <td>NaN</td>\n",
       "      <td>892.000000</td>\n",
       "    </tr>\n",
       "    <tr>\n",
       "      <th>75%</th>\n",
       "      <td>14795.000000</td>\n",
       "      <td>15.000000</td>\n",
       "      <td>NaN</td>\n",
       "      <td>NaN</td>\n",
       "      <td>8.000000</td>\n",
       "      <td>8.000000</td>\n",
       "      <td>NaN</td>\n",
       "      <td>157000.000000</td>\n",
       "      <td>6.000000</td>\n",
       "      <td>NaN</td>\n",
       "      <td>NaN</td>\n",
       "      <td>NaN</td>\n",
       "      <td>NaN</td>\n",
       "      <td>NaN</td>\n",
       "      <td>2379.000000</td>\n",
       "    </tr>\n",
       "    <tr>\n",
       "      <th>max</th>\n",
       "      <td>40350.000000</td>\n",
       "      <td>28.000000</td>\n",
       "      <td>NaN</td>\n",
       "      <td>NaN</td>\n",
       "      <td>10.000000</td>\n",
       "      <td>10.000000</td>\n",
       "      <td>NaN</td>\n",
       "      <td>437000.000000</td>\n",
       "      <td>6.000000</td>\n",
       "      <td>NaN</td>\n",
       "      <td>NaN</td>\n",
       "      <td>NaN</td>\n",
       "      <td>NaN</td>\n",
       "      <td>NaN</td>\n",
       "      <td>10959.000000</td>\n",
       "    </tr>\n",
       "  </tbody>\n",
       "</table>\n",
       "</div>"
      ],
      "text/plain": [
       "                price            age manufacturer         model  \\\n",
       "count   125788.000000  125788.000000       125788        125788   \n",
       "unique            NaN            NaN           42          2713   \n",
       "top               NaN            NaN         ford  other_models   \n",
       "freq              NaN            NaN        22909         13728   \n",
       "mean     10525.332226      11.224234          NaN           NaN   \n",
       "std       8158.151450       5.617431          NaN           NaN   \n",
       "min         52.000000       1.000000          NaN           NaN   \n",
       "25%       4468.750000       7.000000          NaN           NaN   \n",
       "50%       7995.000000      11.000000          NaN           NaN   \n",
       "75%      14795.000000      15.000000          NaN           NaN   \n",
       "max      40350.000000      28.000000          NaN           NaN   \n",
       "\n",
       "            condition      cylinders    fuel        mileage   title_status  \\\n",
       "count   125788.000000  125788.000000  125788  125788.000000  125788.000000   \n",
       "unique            NaN            NaN       5            NaN            NaN   \n",
       "top               NaN            NaN     gas            NaN            NaN   \n",
       "freq              NaN            NaN  116024            NaN            NaN   \n",
       "mean         7.582981       5.939780     NaN  117033.278930       5.810920   \n",
       "std          0.893499       1.516766     NaN   62333.281346       0.756311   \n",
       "min          3.000000       3.000000     NaN       0.000000       0.000000   \n",
       "25%          7.000000       4.000000     NaN   72806.000000       6.000000   \n",
       "50%          8.000000       6.000000     NaN  115000.000000       6.000000   \n",
       "75%          8.000000       8.000000     NaN  157000.000000       6.000000   \n",
       "max         10.000000      10.000000     NaN  437000.000000       6.000000   \n",
       "\n",
       "       transmission   drive       size    type paint_color       word_len  \n",
       "count        125788  125788     125788  125788      125788  125788.000000  \n",
       "unique            3       3          4      13           2            NaN  \n",
       "top       automatic     4wd  full-size   sedan      Common            NaN  \n",
       "freq         114356   51362      66250   36078      102705            NaN  \n",
       "mean            NaN     NaN        NaN     NaN         NaN    1858.053813  \n",
       "std             NaN     NaN        NaN     NaN         NaN    2179.694429  \n",
       "min             NaN     NaN        NaN     NaN         NaN       5.000000  \n",
       "25%             NaN     NaN        NaN     NaN         NaN     411.000000  \n",
       "50%             NaN     NaN        NaN     NaN         NaN     892.000000  \n",
       "75%             NaN     NaN        NaN     NaN         NaN    2379.000000  \n",
       "max             NaN     NaN        NaN     NaN         NaN   10959.000000  "
      ]
     },
     "execution_count": 39,
     "metadata": {},
     "output_type": "execute_result"
    }
   ],
   "source": [
    "new_data.describe(include= 'all')"
   ]
  },
  {
   "cell_type": "code",
   "execution_count": 40,
   "metadata": {
    "colab": {},
    "colab_type": "code",
    "id": "B0SsWojaQMpH"
   },
   "outputs": [],
   "source": [
    "#saving the cleaned data to new csv file\n",
    "new_data.to_csv('Final_data3', index= False)"
   ]
  },
  {
   "cell_type": "markdown",
   "metadata": {
    "colab_type": "text",
    "id": "4-7KB9l7UAEf"
   },
   "source": [
    "## **Visualization**"
   ]
  },
  {
   "cell_type": "code",
   "execution_count": 91,
   "metadata": {
    "colab": {},
    "colab_type": "code",
    "id": "aSQxUUxIfWik"
   },
   "outputs": [],
   "source": [
    "Final_data = pd.read_csv('Final_data3')"
   ]
  },
  {
   "cell_type": "code",
   "execution_count": 58,
   "metadata": {
    "colab": {
     "base_uri": "https://localhost:8080/",
     "height": 351
    },
    "colab_type": "code",
    "id": "2rst-CY2ZNqQ",
    "outputId": "9445f484-2070-4cd0-925d-31d7d7e1554c"
   },
   "outputs": [
    {
     "data": {
      "text/plain": [
       "<matplotlib.axes._subplots.AxesSubplot at 0x20808e16448>"
      ]
     },
     "execution_count": 58,
     "metadata": {},
     "output_type": "execute_result"
    },
    {
     "data": {
      "image/png": "[encoded data removed]",
      "text/plain": [
       "<Figure size 864x360 with 1 Axes>"
      ]
     },
     "metadata": {
      "needs_background": "light"
     },
     "output_type": "display_data"
    }
   ],
   "source": [
    "plt.figure(figsize = (12,5))\n",
    "sns.countplot(x = 'type', order = Final_data['type'].value_counts().index, data = Final_data)"
   ]
  },
  {
   "cell_type": "markdown",
   "metadata": {},
   "source": [
    "__People are selling the used Sedan the most followed by SUV and Trucks. They are very less likely to sell Bus and off-road vehicles because customer dont buy those often.__"
   ]
  },
  {
   "cell_type": "code",
   "execution_count": 59,
   "metadata": {
    "colab": {
     "base_uri": "https://localhost:8080/",
     "height": 353
    },
    "colab_type": "code",
    "id": "INDHVg4OY9VX",
    "outputId": "8dd9e57f-7300-4c57-dc5e-428170cda3c7"
   },
   "outputs": [
    {
     "data": {
      "text/plain": [
       "<matplotlib.axes._subplots.AxesSubplot at 0x20808f38208>"
      ]
     },
     "execution_count": 59,
     "metadata": {},
     "output_type": "execute_result"
    },
    {
     "data": {
      "image/png": "[encoded data removed]",
      "text/plain": [
       "<Figure size 720x360 with 1 Axes>"
      ]
     },
     "metadata": {
      "needs_background": "light"
     },
     "output_type": "display_data"
    }
   ],
   "source": [
    "plt.figure(figsize = (10,5))\n",
    "sns.countplot(x = 'paint_color', order = Final_data['paint_color'].value_counts().index,data = Final_data)"
   ]
  },
  {
   "cell_type": "markdown",
   "metadata": {},
   "source": [
    "1. __We can see that people are buying used cars with common colors(white,grey,black,silver,blue,red) than not common colors__\n",
    "2. __Not Common colors (purple, orange, green etc) are mostly luxury cars which are too expensive__"
   ]
  },
  {
   "cell_type": "code",
   "execution_count": 60,
   "metadata": {
    "colab": {
     "base_uri": "https://localhost:8080/",
     "height": 471
    },
    "colab_type": "code",
    "id": "bhj0hp5RU-vH",
    "outputId": "245dc373-dc7c-48da-b75d-775c1d915a13"
   },
   "outputs": [
    {
     "data": {
      "text/plain": [
       "(array([ 0,  1,  2,  3,  4,  5,  6,  7,  8,  9, 10, 11, 12, 13, 14, 15, 16,\n",
       "        17, 18, 19, 20, 21, 22, 23, 24, 25, 26, 27, 28, 29, 30, 31, 32, 33,\n",
       "        34, 35, 36, 37, 38, 39, 40, 41]),\n",
       " <a list of 42 Text xticklabel objects>)"
      ]
     },
     "execution_count": 60,
     "metadata": {},
     "output_type": "execute_result"
    },
    {
     "data": {
      "image/png": "[encoded data removed]",
      "text/plain": [
       "<Figure size 720x360 with 1 Axes>"
      ]
     },
     "metadata": {
      "needs_background": "light"
     },
     "output_type": "display_data"
    }
   ],
   "source": [
    "plt.figure(figsize = (10,5))\n",
    "sns.countplot(x = 'manufacturer', order = Final_data['manufacturer'].value_counts().index, data = Final_data)\n",
    "plt.xticks(rotation = 90)"
   ]
  },
  {
   "cell_type": "markdown",
   "metadata": {},
   "source": [
    "__Ford, Toyota, Chevrolet and Honda__ manufacturer cover most of the used cars because they are cheap and good than other manufacturers like __Ferrari, Rolls-Royce and Hennessey__"
   ]
  },
  {
   "cell_type": "code",
   "execution_count": 61,
   "metadata": {
    "colab": {
     "base_uri": "https://localhost:8080/",
     "height": 351
    },
    "colab_type": "code",
    "id": "0dPTtU9sU-3m",
    "outputId": "fd531cab-5af4-40f5-a437-eadeaa2b2af0"
   },
   "outputs": [
    {
     "data": {
      "text/plain": [
       "<matplotlib.axes._subplots.AxesSubplot at 0x20809297488>"
      ]
     },
     "execution_count": 61,
     "metadata": {},
     "output_type": "execute_result"
    },
    {
     "data": {
      "image/png": "[encoded data removed]",
      "text/plain": [
       "<Figure size 720x360 with 1 Axes>"
      ]
     },
     "metadata": {
      "needs_background": "light"
     },
     "output_type": "display_data"
    }
   ],
   "source": [
    "plt.figure(figsize = (10,5))\n",
    "sns.countplot(x = 'age', order = Final_data['age'].value_counts().index, data = Final_data)"
   ]
  },
  {
   "cell_type": "code",
   "execution_count": 63,
   "metadata": {},
   "outputs": [],
   "source": [
    "# # using log to convert the skewed to normal distribution of price column becuase regression models performs well \n",
    "# with normally distributed target\n",
    "# Final_data['price'] = np.log(Final_data['price'])\n",
    "# Final_data['word_len'] = np.log(Final_data['word_len'])"
   ]
  },
  {
   "cell_type": "code",
   "execution_count": 92,
   "metadata": {},
   "outputs": [
    {
     "data": {
      "text/plain": [
       "<matplotlib.axes._subplots.AxesSubplot at 0x2080909d348>"
      ]
     },
     "execution_count": 92,
     "metadata": {},
     "output_type": "execute_result"
    },
    {
     "data": {
      "image/png": "[encoded data removed]",
      "text/plain": [
       "<Figure size 720x360 with 1 Axes>"
      ]
     },
     "metadata": {
      "needs_background": "light"
     },
     "output_type": "display_data"
    }
   ],
   "source": [
    "plt.figure(figsize = (10,5))\n",
    "sns.scatterplot('word_len', 'price', data = Final_data)"
   ]
  },
  {
   "cell_type": "code",
   "execution_count": 93,
   "metadata": {
    "colab": {
     "base_uri": "https://localhost:8080/",
     "height": 307
    },
    "colab_type": "code",
    "id": "zW2lh_4wY18o",
    "outputId": "afbed46b-fda0-4124-e4d2-a01ac70f417a"
   },
   "outputs": [
    {
     "data": {
      "text/plain": [
       "<matplotlib.axes._subplots.AxesSubplot at 0x20809070a88>"
      ]
     },
     "execution_count": 93,
     "metadata": {},
     "output_type": "execute_result"
    },
    {
     "data": {
      "image/png": "[encoded data removed]",
      "text/plain": [
       "<Figure size 432x288 with 1 Axes>"
      ]
     },
     "metadata": {
      "needs_background": "light"
     },
     "output_type": "display_data"
    }
   ],
   "source": [
    "sns.distplot(Final_data['mileage'])"
   ]
  },
  {
   "cell_type": "code",
   "execution_count": 94,
   "metadata": {
    "colab": {
     "base_uri": "https://localhost:8080/",
     "height": 297
    },
    "colab_type": "code",
    "id": "G_QLyeroZBv7",
    "outputId": "74b53647-6f93-415b-f64a-3c2f6cf72547"
   },
   "outputs": [
    {
     "data": {
      "text/plain": [
       "<matplotlib.axes._subplots.AxesSubplot at 0x2080903a288>"
      ]
     },
     "execution_count": 94,
     "metadata": {},
     "output_type": "execute_result"
    },
    {
     "data": {
      "image/png": "[encoded data removed]",
      "text/plain": [
       "<Figure size 432x288 with 1 Axes>"
      ]
     },
     "metadata": {
      "needs_background": "light"
     },
     "output_type": "display_data"
    }
   ],
   "source": [
    "sns.distplot(Final_data['word_len'])"
   ]
  },
  {
   "cell_type": "code",
   "execution_count": 95,
   "metadata": {
    "colab": {
     "base_uri": "https://localhost:8080/",
     "height": 282
    },
    "colab_type": "code",
    "id": "7EFufK-S5CSo",
    "outputId": "e870878e-2864-4190-b7b4-1d1a870d2f18"
   },
   "outputs": [
    {
     "data": {
      "text/plain": [
       "<matplotlib.axes._subplots.AxesSubplot at 0x2080a3a0e08>"
      ]
     },
     "execution_count": 95,
     "metadata": {},
     "output_type": "execute_result"
    },
    {
     "data": {
      "image/png": "[encoded data removed]",
      "text/plain": [
       "<Figure size 432x288 with 1 Axes>"
      ]
     },
     "metadata": {
      "needs_background": "light"
     },
     "output_type": "display_data"
    }
   ],
   "source": [
    "Final_data.boxplot('mileage')"
   ]
  },
  {
   "cell_type": "code",
   "execution_count": 96,
   "metadata": {
    "colab": {
     "base_uri": "https://localhost:8080/",
     "height": 283
    },
    "colab_type": "code",
    "id": "D638lNmu5CSq",
    "outputId": "a1570ced-aa5c-4189-f84c-f08bcd272076"
   },
   "outputs": [
    {
     "data": {
      "text/plain": [
       "<matplotlib.axes._subplots.AxesSubplot at 0x2080a3f4588>"
      ]
     },
     "execution_count": 96,
     "metadata": {},
     "output_type": "execute_result"
    },
    {
     "data": {
      "image/png": "[encoded data removed]",
      "text/plain": [
       "<Figure size 432x288 with 1 Axes>"
      ]
     },
     "metadata": {
      "needs_background": "light"
     },
     "output_type": "display_data"
    }
   ],
   "source": [
    "Final_data.boxplot('word_len')"
   ]
  },
  {
   "cell_type": "code",
   "execution_count": 97,
   "metadata": {},
   "outputs": [
    {
     "data": {
      "text/plain": [
       "<matplotlib.axes._subplots.AxesSubplot at 0x2080ab61ac8>"
      ]
     },
     "execution_count": 97,
     "metadata": {},
     "output_type": "execute_result"
    },
    {
     "data": {
      "image/png": "[encoded data removed]",
      "text/plain": [
       "<Figure size 432x288 with 1 Axes>"
      ]
     },
     "metadata": {
      "needs_background": "light"
     },
     "output_type": "display_data"
    }
   ],
   "source": [
    "Final_data.boxplot('price')"
   ]
  },
  {
   "cell_type": "code",
   "execution_count": 98,
   "metadata": {
    "colab": {
     "base_uri": "https://localhost:8080/",
     "height": 342
    },
    "colab_type": "code",
    "id": "qFpc6Biv5CSr",
    "outputId": "823f898d-2dbb-4bd6-b77f-fafaacdfe0bc"
   },
   "outputs": [
    {
     "data": {
      "text/plain": [
       "<matplotlib.axes._subplots.AxesSubplot at 0x2080abd5f08>"
      ]
     },
     "execution_count": 98,
     "metadata": {},
     "output_type": "execute_result"
    },
    {
     "data": {
      "image/png": "[encoded data removed]",
      "text/plain": [
       "<Figure size 720x504 with 2 Axes>"
      ]
     },
     "metadata": {
      "needs_background": "light"
     },
     "output_type": "display_data"
    }
   ],
   "source": [
    "plt.figure(figsize = (10,7))\n",
    "corr = Final_data.corr()\n",
    "sns.heatmap(corr, annot = True)"
   ]
  },
  {
   "cell_type": "markdown",
   "metadata": {
    "colab_type": "text",
    "id": "MFyhqj6a5CS_"
   },
   "source": [
    "## **Model building**"
   ]
  },
  {
   "cell_type": "code",
   "execution_count": 99,
   "metadata": {
    "colab": {},
    "colab_type": "code",
    "id": "oGD5m58e5CTC"
   },
   "outputs": [],
   "source": [
    "from sklearn.model_selection import KFold\n",
    "from sklearn.model_selection import train_test_split\n",
    "from sklearn.metrics import r2_score\n",
    "from sklearn.model_selection import cross_val_score\n",
    "from sklearn.preprocessing import MinMaxScaler"
   ]
  },
  {
   "cell_type": "code",
   "execution_count": 100,
   "metadata": {
    "colab": {},
    "colab_type": "code",
    "id": "9U3ZARayT2Ox"
   },
   "outputs": [],
   "source": [
    "from sklearn.linear_model import LinearRegression\n",
    "from sklearn.linear_model import Lasso\n",
    "from sklearn.linear_model import Ridge\n",
    "from sklearn.tree import DecisionTreeRegressor\n",
    "from sklearn.linear_model  import SGDRegressor\n",
    "from sklearn.ensemble import GradientBoostingRegressor\n",
    "from sklearn.ensemble import AdaBoostRegressor\n",
    "from sklearn.ensemble import RandomForestRegressor"
   ]
  },
  {
   "cell_type": "code",
   "execution_count": 101,
   "metadata": {
    "colab": {
     "base_uri": "https://localhost:8080/",
     "height": 261
    },
    "colab_type": "code",
    "id": "H4kHgxjv5CTL",
    "outputId": "2ccec8b4-7651-4999-bfb4-aceca2b0b82d"
   },
   "outputs": [
    {
     "data": {
      "text/html": [
       "<div>\n",
       "<style scoped>\n",
       "    .dataframe tbody tr th:only-of-type {\n",
       "        vertical-align: middle;\n",
       "    }\n",
       "\n",
       "    .dataframe tbody tr th {\n",
       "        vertical-align: top;\n",
       "    }\n",
       "\n",
       "    .dataframe thead th {\n",
       "        text-align: right;\n",
       "    }\n",
       "</style>\n",
       "<table border=\"1\" class=\"dataframe\">\n",
       "  <thead>\n",
       "    <tr style=\"text-align: right;\">\n",
       "      <th></th>\n",
       "      <th>price</th>\n",
       "      <th>age</th>\n",
       "      <th>condition</th>\n",
       "      <th>cylinders</th>\n",
       "      <th>mileage</th>\n",
       "      <th>title_status</th>\n",
       "      <th>word_len</th>\n",
       "      <th>manufacturer_Tesla</th>\n",
       "      <th>manufacturer_acura</th>\n",
       "      <th>manufacturer_alfa-romeo</th>\n",
       "      <th>...</th>\n",
       "      <th>type_hatchback</th>\n",
       "      <th>type_mini-van</th>\n",
       "      <th>type_offroad</th>\n",
       "      <th>type_other</th>\n",
       "      <th>type_pickup</th>\n",
       "      <th>type_sedan</th>\n",
       "      <th>type_truck</th>\n",
       "      <th>type_van</th>\n",
       "      <th>type_wagon</th>\n",
       "      <th>paint_color_Not_common</th>\n",
       "    </tr>\n",
       "  </thead>\n",
       "  <tbody>\n",
       "    <tr>\n",
       "      <th>0</th>\n",
       "      <td>9000</td>\n",
       "      <td>11</td>\n",
       "      <td>7</td>\n",
       "      <td>8</td>\n",
       "      <td>217743</td>\n",
       "      <td>6</td>\n",
       "      <td>132</td>\n",
       "      <td>0</td>\n",
       "      <td>0</td>\n",
       "      <td>0</td>\n",
       "      <td>...</td>\n",
       "      <td>0</td>\n",
       "      <td>0</td>\n",
       "      <td>0</td>\n",
       "      <td>0</td>\n",
       "      <td>0</td>\n",
       "      <td>0</td>\n",
       "      <td>0</td>\n",
       "      <td>0</td>\n",
       "      <td>0</td>\n",
       "      <td>0</td>\n",
       "    </tr>\n",
       "    <tr>\n",
       "      <th>1</th>\n",
       "      <td>6000</td>\n",
       "      <td>18</td>\n",
       "      <td>7</td>\n",
       "      <td>8</td>\n",
       "      <td>195000</td>\n",
       "      <td>6</td>\n",
       "      <td>505</td>\n",
       "      <td>0</td>\n",
       "      <td>0</td>\n",
       "      <td>0</td>\n",
       "      <td>...</td>\n",
       "      <td>0</td>\n",
       "      <td>0</td>\n",
       "      <td>0</td>\n",
       "      <td>0</td>\n",
       "      <td>1</td>\n",
       "      <td>0</td>\n",
       "      <td>0</td>\n",
       "      <td>0</td>\n",
       "      <td>0</td>\n",
       "      <td>0</td>\n",
       "    </tr>\n",
       "    <tr>\n",
       "      <th>2</th>\n",
       "      <td>37000</td>\n",
       "      <td>8</td>\n",
       "      <td>8</td>\n",
       "      <td>8</td>\n",
       "      <td>178000</td>\n",
       "      <td>6</td>\n",
       "      <td>274</td>\n",
       "      <td>0</td>\n",
       "      <td>0</td>\n",
       "      <td>0</td>\n",
       "      <td>...</td>\n",
       "      <td>0</td>\n",
       "      <td>0</td>\n",
       "      <td>0</td>\n",
       "      <td>0</td>\n",
       "      <td>1</td>\n",
       "      <td>0</td>\n",
       "      <td>0</td>\n",
       "      <td>0</td>\n",
       "      <td>0</td>\n",
       "      <td>0</td>\n",
       "    </tr>\n",
       "    <tr>\n",
       "      <th>3</th>\n",
       "      <td>9700</td>\n",
       "      <td>10</td>\n",
       "      <td>7</td>\n",
       "      <td>8</td>\n",
       "      <td>140000</td>\n",
       "      <td>6</td>\n",
       "      <td>483</td>\n",
       "      <td>0</td>\n",
       "      <td>0</td>\n",
       "      <td>0</td>\n",
       "      <td>...</td>\n",
       "      <td>0</td>\n",
       "      <td>0</td>\n",
       "      <td>0</td>\n",
       "      <td>0</td>\n",
       "      <td>0</td>\n",
       "      <td>0</td>\n",
       "      <td>0</td>\n",
       "      <td>0</td>\n",
       "      <td>0</td>\n",
       "      <td>0</td>\n",
       "    </tr>\n",
       "    <tr>\n",
       "      <th>4</th>\n",
       "      <td>2500</td>\n",
       "      <td>19</td>\n",
       "      <td>5</td>\n",
       "      <td>8</td>\n",
       "      <td>220000</td>\n",
       "      <td>6</td>\n",
       "      <td>3657</td>\n",
       "      <td>0</td>\n",
       "      <td>0</td>\n",
       "      <td>0</td>\n",
       "      <td>...</td>\n",
       "      <td>0</td>\n",
       "      <td>0</td>\n",
       "      <td>0</td>\n",
       "      <td>0</td>\n",
       "      <td>1</td>\n",
       "      <td>0</td>\n",
       "      <td>0</td>\n",
       "      <td>0</td>\n",
       "      <td>0</td>\n",
       "      <td>0</td>\n",
       "    </tr>\n",
       "  </tbody>\n",
       "</table>\n",
       "<p>5 rows × 2784 columns</p>\n",
       "</div>"
      ],
      "text/plain": [
       "   price  age  condition  cylinders  mileage  title_status  word_len  \\\n",
       "0   9000   11          7          8   217743             6       132   \n",
       "1   6000   18          7          8   195000             6       505   \n",
       "2  37000    8          8          8   178000             6       274   \n",
       "3   9700   10          7          8   140000             6       483   \n",
       "4   2500   19          5          8   220000             6      3657   \n",
       "\n",
       "   manufacturer_Tesla  manufacturer_acura  manufacturer_alfa-romeo  ...  \\\n",
       "0                   0                   0                        0  ...   \n",
       "1                   0                   0                        0  ...   \n",
       "2                   0                   0                        0  ...   \n",
       "3                   0                   0                        0  ...   \n",
       "4                   0                   0                        0  ...   \n",
       "\n",
       "   type_hatchback  type_mini-van  type_offroad  type_other  type_pickup  \\\n",
       "0               0              0             0           0            0   \n",
       "1               0              0             0           0            1   \n",
       "2               0              0             0           0            1   \n",
       "3               0              0             0           0            0   \n",
       "4               0              0             0           0            1   \n",
       "\n",
       "   type_sedan  type_truck  type_van  type_wagon  paint_color_Not_common  \n",
       "0           0           0         0           0                       0  \n",
       "1           0           0         0           0                       0  \n",
       "2           0           0         0           0                       0  \n",
       "3           0           0         0           0                       0  \n",
       "4           0           0         0           0                       0  \n",
       "\n",
       "[5 rows x 2784 columns]"
      ]
     },
     "execution_count": 101,
     "metadata": {},
     "output_type": "execute_result"
    }
   ],
   "source": [
    "F1 = pd.get_dummies(Final_data, drop_first= True)\n",
    "F1.head()"
   ]
  },
  {
   "cell_type": "code",
   "execution_count": 102,
   "metadata": {
    "colab": {},
    "colab_type": "code",
    "id": "8jeLgxMm5CTN"
   },
   "outputs": [],
   "source": [
    "X = F1.iloc[:, 1:]\n",
    "y = F1.iloc[:,0:1]"
   ]
  },
  {
   "cell_type": "code",
   "execution_count": 103,
   "metadata": {},
   "outputs": [],
   "source": [
    "# scaling the inputs\n",
    "scaler = MinMaxScaler().fit(X)\n",
    "X = scaler.transform(X)"
   ]
  },
  {
   "cell_type": "code",
   "execution_count": 123,
   "metadata": {},
   "outputs": [],
   "source": [
    "y = y.ravel()"
   ]
  },
  {
   "cell_type": "code",
   "execution_count": 104,
   "metadata": {
    "colab": {},
    "colab_type": "code",
    "id": "qT5vk56UyDbO"
   },
   "outputs": [],
   "source": [
    "X_train,X_test,y_train,y_test = train_test_split(X,y, test_size = 0.33, random_state = 42)"
   ]
  },
  {
   "cell_type": "code",
   "execution_count": 105,
   "metadata": {
    "colab": {},
    "colab_type": "code",
    "id": "z1N5RXD1ykxT"
   },
   "outputs": [],
   "source": [
    "X_train = np.array(X_train)\n",
    "y_train = np.array(y_train).reshape(-1)"
   ]
  },
  {
   "cell_type": "code",
   "execution_count": 106,
   "metadata": {
    "colab": {},
    "colab_type": "code",
    "id": "lIDuOXLM5CTQ",
    "scrolled": true
   },
   "outputs": [],
   "source": [
    "# Algorithms\n",
    "linreg = LinearRegression()\n",
    "lasso = Lasso()\n",
    "ridge = Ridge()\n",
    "Dtree = DecisionTreeRegressor()\n",
    "rfreg100 = RandomForestRegressor(n_estimators = 100)"
   ]
  },
  {
   "cell_type": "code",
   "execution_count": 107,
   "metadata": {
    "colab": {},
    "colab_type": "code",
    "id": "yukbPauDbyIQ"
   },
   "outputs": [],
   "source": [
    "# parameters\n",
    "kfold = KFold(n_splits = 5)\n",
    "scoring = 'r2'\n",
    "algo_list = list([linreg,lasso,ridge,Dtree,rfreg100])\n",
    "algo_name = list(['linreg','lasso','ridge','Dtree','rfreg100'])"
   ]
  },
  {
   "cell_type": "code",
   "execution_count": 108,
   "metadata": {
    "colab": {},
    "colab_type": "code",
    "id": "-fOhNbk2BvRP"
   },
   "outputs": [],
   "source": [
    "# Buliding models on various algorithms\n",
    "def model_building(algo,X,y,fold,scoring):\n",
    "    algo_score = []\n",
    "    for i in algo:\n",
    "        score = cross_val_score(i, X, y, cv=fold, scoring=scoring).mean()\n",
    "        algo_score.append(score)\n",
    "    return algo_score"
   ]
  },
  {
   "cell_type": "code",
   "execution_count": 109,
   "metadata": {
    "colab": {},
    "colab_type": "code",
    "id": "WiI9-8czDS_g"
   },
   "outputs": [],
   "source": [
    "result = model_building(algo_list, X_train, y_train, kfold, scoring) # 3:25 pm"
   ]
  },
  {
   "cell_type": "code",
   "execution_count": 110,
   "metadata": {
    "colab": {},
    "colab_type": "code",
    "id": "o_LuOo_pG8Sv"
   },
   "outputs": [],
   "source": [
    "cv_score = dict(zip(algo_name,result))"
   ]
  },
  {
   "cell_type": "code",
   "execution_count": 111,
   "metadata": {
    "colab": {
     "base_uri": "https://localhost:8080/",
     "height": 101
    },
    "colab_type": "code",
    "id": "UilpY9refp2A",
    "outputId": "05ef8ee5-c6d9-418b-c0f3-6d7e502ea5c2"
   },
   "outputs": [
    {
     "data": {
      "text/plain": [
       "{'linreg': -3.2191531620948345e+20,\n",
       " 'lasso': 0.733601291024901,\n",
       " 'ridge': 0.7608259838484435,\n",
       " 'Dtree': 0.7341138060784683,\n",
       " 'rfreg100': 0.8479036557835258}"
      ]
     },
     "execution_count": 111,
     "metadata": {},
     "output_type": "execute_result"
    }
   ],
   "source": [
    "Final_score"
   ]
  },
  {
   "cell_type": "code",
   "execution_count": null,
   "metadata": {
    "colab": {},
    "colab_type": "code",
    "id": "k2BehOVJXYUP"
   },
   "outputs": [],
   "source": []
  },
  {
   "cell_type": "code",
   "execution_count": 112,
   "metadata": {
    "colab": {},
    "colab_type": "code",
    "id": "rr5ycdKJ_xr9"
   },
   "outputs": [],
   "source": [
    "def prediction(algo,X_train, y_train, X_test, y_test):\n",
    "    r2_score1 = []\n",
    "    for i in algo:\n",
    "        reg = i.fit(X_train, y_train)\n",
    "        y_pred = reg.predict(X_test)\n",
    "        r2 = r2_score(y_test, y_pred)\n",
    "        r2_score1.append(r2)\n",
    "    return r2_score1"
   ]
  },
  {
   "cell_type": "code",
   "execution_count": 113,
   "metadata": {
    "colab": {},
    "colab_type": "code",
    "id": "iu9r_em3_xxK"
   },
   "outputs": [],
   "source": [
    "p = prediction(algo_list, X_train, y_train, X_test, y_test) # 5:25 pm"
   ]
  },
  {
   "cell_type": "code",
   "execution_count": 114,
   "metadata": {
    "colab": {},
    "colab_type": "code",
    "id": "4S2lXPi__x3y"
   },
   "outputs": [],
   "source": [
    "test_score = dict(zip(algo_name,p))                                                                                             "
   ]
  },
  {
   "cell_type": "code",
   "execution_count": 115,
   "metadata": {
    "colab": {
     "base_uri": "https://localhost:8080/",
     "height": 101
    },
    "colab_type": "code",
    "id": "OUZJoftULaeM",
    "outputId": "978772b8-9000-4a16-89a9-69f354e55a9d"
   },
   "outputs": [
    {
     "data": {
      "text/plain": [
       "{'linreg': 0.761149074547241,\n",
       " 'lasso': 0.7319624931169314,\n",
       " 'ridge': 0.7617953491369186,\n",
       " 'Dtree': 0.7483831110607176,\n",
       " 'rfreg100': 0.85384119745747}"
      ]
     },
     "execution_count": 115,
     "metadata": {},
     "output_type": "execute_result"
    }
   ],
   "source": [
    "test_score"
   ]
  },
  {
   "cell_type": "code",
   "execution_count": null,
   "metadata": {
    "colab": {},
    "colab_type": "code",
    "id": "E8LNhKonLd2Q"
   },
   "outputs": [],
   "source": []
  },
  {
   "cell_type": "code",
   "execution_count": 124,
   "metadata": {
    "colab": {
     "base_uri": "https://localhost:8080/",
     "height": 134
    },
    "colab_type": "code",
    "id": "-xY4OYCQaIdI",
    "outputId": "0cacb5f2-78bb-4bd4-dd10-b738419b59c5"
   },
   "outputs": [
    {
     "data": {
      "text/plain": [
       "RandomForestRegressor(bootstrap=True, ccp_alpha=0.0, criterion='mse',\n",
       "                      max_depth=None, max_features='auto', max_leaf_nodes=None,\n",
       "                      max_samples=None, min_impurity_decrease=0.0,\n",
       "                      min_impurity_split=None, min_samples_leaf=1,\n",
       "                      min_samples_split=2, min_weight_fraction_leaf=0.0,\n",
       "                      n_estimators=100, n_jobs=None, oob_score=False,\n",
       "                      random_state=None, verbose=0, warm_start=False)"
      ]
     },
     "execution_count": 124,
     "metadata": {},
     "output_type": "execute_result"
    }
   ],
   "source": [
    "#since random forest got high accuracy we can finalize the model with that.\n",
    "rfreg100.fit(X, y) "
   ]
  },
  {
   "cell_type": "code",
   "execution_count": 125,
   "metadata": {
    "colab": {
     "base_uri": "https://localhost:8080/",
     "height": 34
    },
    "colab_type": "code",
    "id": "gstehEIYafly",
    "outputId": "8cacecd7-9f40-4513-ba37-4204be3f9a0c"
   },
   "outputs": [
    {
     "data": {
      "text/plain": [
       "['rf_final_model.sav']"
      ]
     },
     "execution_count": 125,
     "metadata": {},
     "output_type": "execute_result"
    }
   ],
   "source": [
    "# saving the model\n",
    "import joblib\n",
    "\n",
    "rf_model = 'rf_final_model.sav'\n",
    "joblib.dump(rfreg100, rf_model)\n"
   ]
  },
  {
   "cell_type": "code",
   "execution_count": null,
   "metadata": {},
   "outputs": [],
   "source": []
  }
 ],
 "metadata": {
  "accelerator": "TPU",
  "colab": {
   "collapsed_sections": [
    "4-7KB9l7UAEf"
   ],
   "machine_shape": "hm",
   "name": "Used_cars_price_prediction_final.ipynb",
   "provenance": []
  },
  "kernelspec": {
   "display_name": "Python 3",
   "language": "python",
   "name": "python3"
  },
  "language_info": {
   "codemirror_mode": {
    "name": "ipython",
    "version": 3
   },
   "file_extension": ".py",
   "mimetype": "text/x-python",
   "name": "python",
   "nbconvert_exporter": "python",
   "pygments_lexer": "ipython3",
   "version": "3.7.6"
  }
 },
 "nbformat": 4,
 "nbformat_minor": 1
}
